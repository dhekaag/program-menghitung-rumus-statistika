{
 "cells": [
  {
   "cell_type": "code",
   "execution_count": null,
   "metadata": {},
   "outputs": [],
   "source": [
    "# Import bisa disini\n",
    "\n",
    "\n",
    "# Buat inputan jumlah data\n",
    "jml_data = int(input(\"Berapa jumlah data yang akan dimasukan : \"))\n",
    "# Buat inputan user\n",
    "deret = input(\"Masukan deret bilangan : \")\n",
    "\n",
    "# Buat array untuk menyimpan inputan\n",
    "data = []\n",
    "for bilangan in deret.split(\",\"):\n",
    "  data.append(bilangan)\n",
    "\n",
    "data = [int(x) for x in data]\n",
    "\n"
   ]
  },
  {
   "cell_type": "code",
   "execution_count": null,
   "metadata": {},
   "outputs": [],
   "source": [
    "# Buat function hitung_mean\n",
    "def hitung_mean(data):\n",
    "  #Jumlah semua data\n",
    "  total = sum(data)\n",
    "  mean = total/len(data)\n",
    "  print(f'data = {data}')\n",
    "  print(f'Rata-Ratanya adalah : {mean}')\n",
    "  return mean # Masukkan rumus menghitung Mean\n"
   ]
  }
 ],
 "metadata": {
  "language_info": {
   "name": "python"
  },
  "orig_nbformat": 4
 },
 "nbformat": 4,
 "nbformat_minor": 2
}
